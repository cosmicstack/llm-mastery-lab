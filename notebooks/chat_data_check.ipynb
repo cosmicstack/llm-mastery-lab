{
 "cells": [
  {
   "cell_type": "code",
   "execution_count": 1,
   "id": "5d37e416",
   "metadata": {},
   "outputs": [],
   "source": [
    "import re"
   ]
  },
  {
   "cell_type": "code",
   "execution_count": null,
   "id": "1c03a566",
   "metadata": {},
   "outputs": [],
   "source": [
    "with open(\"../data/_chat.txt\", \"r\") as f:\n",
    "    chat_data = f.read()\n"
   ]
  },
  {
   "cell_type": "code",
   "execution_count": 9,
   "id": "085dc46c",
   "metadata": {},
   "outputs": [],
   "source": [
    "# Extract lines that contain \"K:\" \n",
    "data = []\n",
    "\n",
    "for line in chat_data.split('\\n'):\n",
    "    if 'K:' in line:\n",
    "        k_index = line.find(\"K:\")\n",
    "        if k_index != -1:\n",
    "            message = line[k_index + 2:].strip()\n",
    "            data.append(message)\n"
   ]
  },
  {
   "cell_type": "code",
   "execution_count": 16,
   "id": "b87b6a54",
   "metadata": {},
   "outputs": [
    {
     "data": {
      "text/plain": [
       "'Absolutely yes'"
      ]
     },
     "execution_count": 16,
     "metadata": {},
     "output_type": "execute_result"
    }
   ],
   "source": [
    "data[0]"
   ]
  },
  {
   "cell_type": "code",
   "execution_count": null,
   "id": "195034fe",
   "metadata": {},
   "outputs": [],
   "source": []
  }
 ],
 "metadata": {
  "kernelspec": {
   "display_name": "lm-mastery-lab",
   "language": "python",
   "name": "python3"
  },
  "language_info": {
   "codemirror_mode": {
    "name": "ipython",
    "version": 3
   },
   "file_extension": ".py",
   "mimetype": "text/x-python",
   "name": "python",
   "nbconvert_exporter": "python",
   "pygments_lexer": "ipython3",
   "version": "3.10.16"
  }
 },
 "nbformat": 4,
 "nbformat_minor": 5
}
